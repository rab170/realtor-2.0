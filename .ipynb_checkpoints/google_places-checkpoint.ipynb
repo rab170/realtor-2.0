{
 "cells": [
  {
   "cell_type": "code",
   "execution_count": null,
   "metadata": {},
   "outputs": [],
   "source": [
    "import yaml\n",
    "import math\n",
    "import googlemaps\n",
    "import pandas as pd\n",
    "import matplotlib.pyplot as plt\n",
    "from scraping.pgSQL_handler import pgSQL\n",
    "from scraping.Parser import *\n",
    "\n",
    "pd.set_option('display.max_colwidth', -1)"
   ]
  },
  {
   "cell_type": "code",
   "execution_count": 2,
   "metadata": {},
   "outputs": [],
   "source": [
    "with open('scraping/configs/hamburg.yaml') as f:\n",
    "    config = yaml.load(f)\n",
    "\n",
    "gesucht = Gesucht(config)\n",
    "SQL = pgSQL(config['postgreSQL'])"
   ]
  },
  {
   "cell_type": "code",
   "execution_count": 5,
   "metadata": {},
   "outputs": [
    {
     "data": {
      "text/plain": [
       "[53.55073849999999, 9.9293097]"
      ]
     },
     "execution_count": 5,
     "metadata": {},
     "output_type": "execute_result"
    }
   ],
   "source": [
    "location = { \"lat\" : 53.55073849999999, \"lng\" : 9.9293097}\n",
    "list(location.values())"
   ]
  },
  {
   "cell_type": "code",
   "execution_count": 24,
   "metadata": {
    "scrolled": false
   },
   "outputs": [],
   "source": [
    "\n",
    "text = None\n",
    "types = ['train_station', 'subway_station', 'transit_station']\n",
    "\n",
    "search = gesucht.gmaps.places(text, type=types, location=apartment_coordinates, radius=gesucht.SEARCH_RADIUS)\n",
    "\n",
    "places =  []\n",
    "for place in search['results']:\n",
    "\n",
    "    location = place['geometry']['location']\n",
    "    place['distance'] = gesucht.coordinate_distance(location, apartment_coordinates)\n",
    "    place['url'] = gesucht.GOOGLE_PLACES_URL.format(place_id=place['place_id'])\n",
    "\n",
    "    fields = {field: place[field] for field in gesucht.GOOGLE_PLACES_FIELDS if field in place}\n",
    "    places.append({**location, **fields})\n",
    "    places = sorted(places, key=lambda place: place['distance'])\n",
    "\n"
   ]
  },
  {
   "cell_type": "code",
   "execution_count": 25,
   "metadata": {
    "scrolled": false
   },
   "outputs": [
    {
     "data": {
      "text/plain": [
       "[{'lat': 53.5716653,\n",
       "  'lng': 9.9527004,\n",
       "  'name': 'Emilienstraße',\n",
       "  'types': ['subway_station',\n",
       "   'transit_station',\n",
       "   'point_of_interest',\n",
       "   'establishment'],\n",
       "  'place_id': 'ChIJlZE_wlmPsUcReYBTV3dErAc',\n",
       "  'distance': 3365.472633828189,\n",
       "  'rating': 3.7},\n",
       " {'lat': 53.5761858,\n",
       "  'lng': 9.951654699999999,\n",
       "  'name': 'Osterstraße',\n",
       "  'types': ['subway_station',\n",
       "   'transit_station',\n",
       "   'point_of_interest',\n",
       "   'establishment'],\n",
       "  'place_id': 'ChIJOaH7T1aPsUcRsRhX7ZcbIK0',\n",
       "  'distance': 3660.885727006879,\n",
       "  'rating': 3.9},\n",
       " {'lat': 53.58103449999999,\n",
       "  'lng': 9.947441099999999,\n",
       "  'name': 'Lutterothstraße',\n",
       "  'types': ['subway_station',\n",
       "   'transit_station',\n",
       "   'point_of_interest',\n",
       "   'establishment'],\n",
       "  'place_id': 'ChIJM7bzsf-FsUcRc_EBUiF0CPQ',\n",
       "  'distance': 3860.219969403475,\n",
       "  'rating': 3.6},\n",
       " {'lat': 53.569541,\n",
       "  'lng': 9.962356999999999,\n",
       "  'name': 'Christuskirche',\n",
       "  'types': ['subway_station',\n",
       "   'transit_station',\n",
       "   'point_of_interest',\n",
       "   'establishment'],\n",
       "  'place_id': 'ChIJl5VCL0WPsUcRI3iMP7y3_xo',\n",
       "  'distance': 4021.336999636966,\n",
       "  'rating': 3.7},\n",
       " {'lat': 53.5569511,\n",
       "  'lng': 9.9686345,\n",
       "  'name': 'Feldstraße',\n",
       "  'types': ['subway_station',\n",
       "   'transit_station',\n",
       "   'point_of_interest',\n",
       "   'establishment'],\n",
       "  'place_id': 'ChIJX5ZiBmuPsUcRsEl03DzGUEw',\n",
       "  'distance': 4145.109348069069,\n",
       "  'rating': 4.4},\n",
       " {'lat': 53.5508461,\n",
       "  'lng': 9.9700173,\n",
       "  'name': 'St. Pauli',\n",
       "  'types': ['subway_station',\n",
       "   'transit_station',\n",
       "   'point_of_interest',\n",
       "   'establishment'],\n",
       "  'place_id': 'ChIJHxxEyhKPsUcRaArX0ItgHYw',\n",
       "  'distance': 4230.634191691642,\n",
       "  'rating': 4.2},\n",
       " {'lat': 53.54597700000001,\n",
       "  'lng': 9.9706279,\n",
       "  'name': 'Landungsbrücken',\n",
       "  'types': ['subway_station',\n",
       "   'transit_station',\n",
       "   'point_of_interest',\n",
       "   'establishment'],\n",
       "  'place_id': 'ChIJucV_4wyPsUcRli4AiPCHq2I',\n",
       "  'distance': 4326.398783968776,\n",
       "  'rating': 4.6},\n",
       " {'lat': 53.56791459999999,\n",
       "  'lng': 9.970098,\n",
       "  'name': 'Schlump',\n",
       "  'types': ['subway_station',\n",
       "   'transit_station',\n",
       "   'point_of_interest',\n",
       "   'establishment'],\n",
       "  'place_id': 'ChIJsz0HkkaPsUcRXR_Zm_iZg9w',\n",
       "  'distance': 4650.008998587671,\n",
       "  'rating': 4.1},\n",
       " {'lat': 53.55767820000001,\n",
       "  'lng': 9.976972499999999,\n",
       "  'name': 'Messehallen',\n",
       "  'types': ['subway_station',\n",
       "   'transit_station',\n",
       "   'point_of_interest',\n",
       "   'establishment'],\n",
       "  'place_id': 'ChIJ3wTopBWPsUcRZF_lMdAmOWs',\n",
       "  'distance': 5013.507408314843,\n",
       "  'rating': 4},\n",
       " {'lat': 53.54420469999999,\n",
       "  'lng': 9.9815285,\n",
       "  'name': 'Baumwall (Elbphilharmonie)',\n",
       "  'types': ['subway_station',\n",
       "   'transit_station',\n",
       "   'point_of_interest',\n",
       "   'establishment'],\n",
       "  'place_id': 'ChIJMXRkZw-PsUcRdDaPlZ_7Eng',\n",
       "  'distance': 5475.023180400947,\n",
       "  'rating': 4.5},\n",
       " {'lat': 53.57784179999999,\n",
       "  'lng': 9.9763392,\n",
       "  'name': 'Hoheluftbrücke',\n",
       "  'types': ['subway_station',\n",
       "   'transit_station',\n",
       "   'point_of_interest',\n",
       "   'establishment'],\n",
       "  'place_id': 'ChIJfapFTUqPsUcRSCweIkRhSvs',\n",
       "  'distance': 5743.142619042044,\n",
       "  'rating': 4.1},\n",
       " {'lat': 53.548235,\n",
       "  'lng': 9.9868796,\n",
       "  'name': 'Rödingsmarkt',\n",
       "  'types': ['subway_station',\n",
       "   'transit_station',\n",
       "   'point_of_interest',\n",
       "   'establishment'],\n",
       "  'place_id': 'ChIJT8hxLQWPsUcRmwDAqAUm4dI',\n",
       "  'distance': 5989.391758946918,\n",
       "  'rating': 4.1},\n",
       " {'lat': 53.55798040000001,\n",
       "  'lng': 9.9894681,\n",
       "  'name': 'Stephansplatz',\n",
       "  'types': ['subway_station',\n",
       "   'transit_station',\n",
       "   'point_of_interest',\n",
       "   'establishment'],\n",
       "  'place_id': 'ChIJjVUBoSKPsUcROjWxvgTMWLs',\n",
       "  'distance': 6304.13814633431,\n",
       "  'rating': 3.8},\n",
       " {'lat': 53.5726795,\n",
       "  'lng': 9.9887523,\n",
       "  'name': 'Hallerstraße',\n",
       "  'types': ['subway_station',\n",
       "   'transit_station',\n",
       "   'point_of_interest',\n",
       "   'establishment'],\n",
       "  'place_id': 'ChIJASQGCTGPsUcRST5m6O7Ezz0',\n",
       "  'distance': 6643.167423784318,\n",
       "  'rating': 4.3},\n",
       " {'lat': 53.5404971,\n",
       "  'lng': 9.9994025,\n",
       "  'name': 'Überseequartier',\n",
       "  'types': ['subway_station',\n",
       "   'transit_station',\n",
       "   'point_of_interest',\n",
       "   'establishment'],\n",
       "  'place_id': 'ChIJAboyZP6OsUcRoxNw1W0g1QY',\n",
       "  'distance': 7372.312811654439,\n",
       "  'rating': 4.6},\n",
       " {'lat': 53.5406103,\n",
       "  'lng': 10.0069912,\n",
       "  'name': 'HafenCity Universität',\n",
       "  'types': ['subway_station',\n",
       "   'transit_station',\n",
       "   'point_of_interest',\n",
       "   'establishment'],\n",
       "  'place_id': 'ChIJlSlRivmOsUcRoZoRYQZBQVI',\n",
       "  'distance': 8150.61197681602,\n",
       "  'rating': 4.7}]"
      ]
     },
     "execution_count": 25,
     "metadata": {},
     "output_type": "execute_result"
    }
   ],
   "source": [
    "places"
   ]
  },
  {
   "cell_type": "code",
   "execution_count": null,
   "metadata": {},
   "outputs": [],
   "source": []
  },
  {
   "cell_type": "code",
   "execution_count": null,
   "metadata": {},
   "outputs": [],
   "source": [
    "bundesland = 'HH'\n",
    "destinations = {'hbf': (53.553738, 10.005487), \n",
    "                'sternschanze': (53.564001, 9.965852),\n",
    "                'st. pauli': (53.551025, 9.970045)}"
   ]
  },
  {
   "cell_type": "code",
   "execution_count": null,
   "metadata": {},
   "outputs": [],
   "source": [
    "cursor = SQL.pg_conn.cursor()\n",
    "cursor.execute(\"select * from hamburg order by timestamp desc limit 50\")\n",
    "                #where lower(address) like '%eppendorfer%weg%'\")\n",
    "df = pd.DataFrame(cursor.fetchall(), columns=[column.name for column in cursor.description])\n",
    "df.head()"
   ]
  },
  {
   "cell_type": "code",
   "execution_count": null,
   "metadata": {},
   "outputs": [],
   "source": [
    "apartments = df.sample(n=5)\n",
    "origins = [(row.lat, row.lng) for i, row in apartments.iterrows()]"
   ]
  },
  {
   "cell_type": "code",
   "execution_count": null,
   "metadata": {},
   "outputs": [],
   "source": [
    "gesucht.gmaps.directions"
   ]
  },
  {
   "cell_type": "code",
   "execution_count": null,
   "metadata": {},
   "outputs": [],
   "source": [
    "import holidays\n",
    "\n",
    "from datetime import time\n",
    "from datetime import date\n",
    "from datetime import datetime\n",
    "from datetime import timedelta\n",
    "\n",
    "import numpy as np "
   ]
  },
  {
   "cell_type": "code",
   "execution_count": null,
   "metadata": {},
   "outputs": [],
   "source": [
    "hh_holidays = holidays.Germany(prov=bundesland)\n",
    "\n",
    "week = [date.today() + timedelta(days=n) for n in range(7)]\n",
    "\n",
    "weekend = np.array([day.weekday() >= 5 for day in week])      # make sure all postings have a fair comparison.\n",
    "holiday = np.array([day in hh_holidays for day in week])      # holidays be cray cray\n",
    "\n",
    "offset = np.argmax((weekend | holiday) == False)\n",
    "\n",
    "\n",
    "travel_day = date.today() + timedelta(days=int(offset))\n",
    "travel_time = datetime.combine(travel_day, time(10, 30))       # again, fair comparison. Weekday at 10 AM\n",
    "\n",
    "res = gesucht.gmaps.distance_matrix(origins, destinations.values(), departure_time=travel_time, mode='bicycle')"
   ]
  },
  {
   "cell_type": "code",
   "execution_count": null,
   "metadata": {},
   "outputs": [],
   "source": [
    "res"
   ]
  },
  {
   "cell_type": "code",
   "execution_count": null,
   "metadata": {},
   "outputs": [],
   "source": [
    "travel_info = []\n",
    "for apt, row in zip(apartments.iterrows(), res['rows']):\n",
    "    row = [{'distance':elem['distance']['value'], 'time':elem['duration']['value']/60} for elem in row['elements']]\n",
    "    travel_info.append({dest: travel_info for dest, travel_info in zip(destinations.keys(), row)})\n",
    "travel_info"
   ]
  },
  {
   "cell_type": "code",
   "execution_count": null,
   "metadata": {},
   "outputs": [],
   "source": [
    "apartments"
   ]
  },
  {
   "cell_type": "code",
   "execution_count": null,
   "metadata": {},
   "outputs": [],
   "source": []
  }
 ],
 "metadata": {
  "kernelspec": {
   "display_name": "Python 3",
   "language": "python",
   "name": "python3"
  },
  "language_info": {
   "codemirror_mode": {
    "name": "ipython",
    "version": 3
   },
   "file_extension": ".py",
   "mimetype": "text/x-python",
   "name": "python",
   "nbconvert_exporter": "python",
   "pygments_lexer": "ipython3",
   "version": "3.7.0"
  }
 },
 "nbformat": 4,
 "nbformat_minor": 2
}
