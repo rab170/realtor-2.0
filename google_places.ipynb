{
 "cells": [
  {
   "cell_type": "code",
   "execution_count": null,
   "metadata": {},
   "outputs": [],
   "source": [
    "import yaml\n",
    "import math\n",
    "import googlemaps\n",
    "import pandas as pd\n",
    "import matplotlib.pyplot as plt\n",
    "from scraping.pgSQL_handler import pgSQL\n",
    "from scraping.Parser import *\n",
    "\n",
    "pd.set_option('display.max_colwidth', -1)"
   ]
  },
  {
   "cell_type": "code",
   "execution_count": 46,
   "metadata": {},
   "outputs": [],
   "source": [
    "with open('scraping/configs/hamburg.yaml') as f:\n",
    "    config = yaml.load(f)\n",
    "\n",
    "gesucht = Gesucht(config)\n",
    "SQL = pgSQL(config['postgreSQL'])"
   ]
  },
  {
   "cell_type": "code",
   "execution_count": null,
   "metadata": {},
   "outputs": [],
   "source": [
    "bundesland = 'HH'\n",
    "destinations = {'hbf': (53.553738, 10.005487), \n",
    "                'sternschanze': (53.564001, 9.965852),\n",
    "                'st. pauli': (53.551025, 9.970045)}"
   ]
  },
  {
   "cell_type": "code",
   "execution_count": null,
   "metadata": {},
   "outputs": [],
   "source": [
    "cursor = SQL.pg_conn.cursor()\n",
    "cursor.execute(\"select * from hamburg order by timestamp desc limit 50\")\n",
    "                #where lower(address) like '%eppendorfer%weg%'\")\n",
    "df = pd.DataFrame(cursor.fetchall(), columns=[column.name for column in cursor.description])\n",
    "df.head()"
   ]
  },
  {
   "cell_type": "code",
   "execution_count": null,
   "metadata": {},
   "outputs": [],
   "source": [
    "apartments = df.sample(n=5)\n",
    "origins = [(row.lat, row.lng) for i, row in apartments.iterrows()]"
   ]
  },
  {
   "cell_type": "code",
   "execution_count": null,
   "metadata": {},
   "outputs": [],
   "source": [
    "gesucht.gmaps.directions"
   ]
  },
  {
   "cell_type": "code",
   "execution_count": null,
   "metadata": {},
   "outputs": [],
   "source": [
    "import holidays\n",
    "\n",
    "from datetime import time\n",
    "from datetime import date\n",
    "from datetime import datetime\n",
    "from datetime import timedelta\n",
    "\n",
    "import numpy as np "
   ]
  },
  {
   "cell_type": "code",
   "execution_count": null,
   "metadata": {},
   "outputs": [],
   "source": [
    "hh_holidays = holidays.Germany(prov=bundesland)\n",
    "\n",
    "week = [date.today() + timedelta(days=n) for n in range(7)]\n",
    "\n",
    "weekend = np.array([day.weekday() >= 5 for day in week])      # make sure all postings have a fair comparison.\n",
    "holiday = np.array([day in hh_holidays for day in week])      # holidays be cray cray\n",
    "\n",
    "offset = np.argmax((weekend | holiday) == False)\n",
    "\n",
    "\n",
    "travel_day = date.today() + timedelta(days=int(offset))\n",
    "travel_time = datetime.combine(travel_day, time(10, 30))       # again, fair comparison. Weekday at 10 AM\n",
    "\n",
    "res = gesucht.gmaps.distance_matrix(origins, destinations.values(), departure_time=travel_time, mode='bicycle')"
   ]
  },
  {
   "cell_type": "code",
   "execution_count": null,
   "metadata": {},
   "outputs": [],
   "source": [
    "res"
   ]
  },
  {
   "cell_type": "code",
   "execution_count": null,
   "metadata": {},
   "outputs": [],
   "source": [
    "travel_info = []\n",
    "for apt, row in zip(apartments.iterrows(), res['rows']):\n",
    "    row = [{'distance':elem['distance']['value'], 'time':elem['duration']['value']/60} for elem in row['elements']]\n",
    "    travel_info.append({dest: travel_info for dest, travel_info in zip(destinations.keys(), row)})\n",
    "travel_info"
   ]
  },
  {
   "cell_type": "code",
   "execution_count": null,
   "metadata": {},
   "outputs": [],
   "source": [
    "apartments"
   ]
  },
  {
   "cell_type": "code",
   "execution_count": null,
   "metadata": {},
   "outputs": [],
   "source": []
  }
 ],
 "metadata": {
  "kernelspec": {
   "display_name": "Python 3",
   "language": "python",
   "name": "python3"
  },
  "language_info": {
   "codemirror_mode": {
    "name": "ipython",
    "version": 3
   },
   "file_extension": ".py",
   "mimetype": "text/x-python",
   "name": "python",
   "nbconvert_exporter": "python",
   "pygments_lexer": "ipython3",
   "version": "3.7.0"
  }
 },
 "nbformat": 4,
 "nbformat_minor": 2
}
