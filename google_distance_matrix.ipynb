{
 "cells": [
  {
   "cell_type": "code",
   "execution_count": 1,
   "metadata": {},
   "outputs": [],
   "source": [
    "import re\n",
    "import time\n",
    "import yaml\n",
    "import math\n",
    "import gmaps\n",
    "import numpy as np\n",
    "import pandas as pd\n",
    "from scipy import stats\n",
    "import matplotlib.pyplot as plt\n",
    "\n",
    "from bs4 import BeautifulSoup\n",
    "\n",
    "from scraper.mongo_handler import Mongo\n",
    "from scraper.Parser import Gesucht\n",
    "\n",
    "pd.set_option('display.max_colwidth', -1)"
   ]
  },
  {
   "cell_type": "code",
   "execution_count": 2,
   "metadata": {},
   "outputs": [],
   "source": [
    "city = 'berlin'\n",
    "\n",
    "with open('scraper/config/{city}.yaml'.format(city=city)) as f:\n",
    "    config = yaml.load(f)\n",
    "\n",
    "gmaps.configure(api_key=config['google_api_key'])\n",
    "\n",
    "gesucht = Gesucht(config)\n",
    "mongo = Mongo(config['mongo'])\n",
    "\n",
    "center = {'hamburg': (53.553077, 10.006572), 'berlin': (52.525789, 13.369574)}"
   ]
  },
  {
   "cell_type": "code",
   "execution_count": null,
   "metadata": {},
   "outputs": [],
   "source": [
    "from scipy import stats\n",
    "from sklearn.cluster import KMeans\n",
    "from sklearn.preprocessing import StandardScaler, MinMaxScaler\n",
    "\n",
    "fields = ['url', '_id', 'lat', 'lng']\n",
    "\n",
    "results = mongo.collection.find({}).sort('_id', -1)\n",
    "apartments = [doc for doc in results]\n",
    "apartments = [apt for apt in apartments if all(k in apt for k in fields)]\n",
    "apartments = pd.DataFrame({k:[apt[k] for apt in apartments] for k in fields})\n",
    "apartments['timestamp'] = apartments['_id'].apply(lambda _id: _id.generation_time)\n",
    "\n",
    "apartments['remoteness'] = [gesucht.coordinate_distance(apt, center[city]) for i, apt in apartments.iterrows()]\n",
    "apartments = apartments[(np.abs(stats.zscore(apartments.remoteness)) <= 1)]\n",
    "\n",
    "del apartments['_id']"
   ]
  },
  {
   "cell_type": "code",
   "execution_count": null,
   "metadata": {},
   "outputs": [],
   "source": [
    "def extract_stadtteil(s):\n",
    "    return re.sub('.*-in-{city}-'.format(city=city),'', s.lower()).split('.')[0]\n",
    "\n",
    "apartments['Stadtteil'] = apartments.url.apply(extract_stadtteil)\n",
    "apartments['Stadtteil'] = apartments.Stadtteil.astype('category')\n",
    "#apartments = apartments[~apartments.Stadtteil.isin(['friedrichshagen', 'koepenick', 'mueggelheim'])]\n",
    "\n",
    "apartments.sample(n=15)"
   ]
  },
  {
   "cell_type": "code",
   "execution_count": null,
   "metadata": {},
   "outputs": [],
   "source": [
    "counts = apartments.timestamp.apply(lambda stamp: stamp.date()).value_counts().sort_index()\n",
    "\n",
    "plt.plot(counts, '*');"
   ]
  },
  {
   "cell_type": "code",
   "execution_count": null,
   "metadata": {},
   "outputs": [],
   "source": [
    "counts.describe()"
   ]
  },
  {
   "cell_type": "code",
   "execution_count": null,
   "metadata": {
    "scrolled": false
   },
   "outputs": [],
   "source": [
    "n_clusters = 25\n",
    "\n",
    "cluster = KMeans(n_clusters=n_clusters)\n",
    "cluster.fit(apartments[['lat', 'lng']])\n",
    "apartments['cluster'] = cluster.predict(apartments[['lat', 'lng']])\n",
    "\n",
    "centroids = []\n",
    "for name, group in apartments.groupby('cluster'):\n",
    "    frequencies = group.Stadtteil.value_counts()\n",
    "    centroid = {k:cluster.cluster_centers_[name][i] for i, k in enumerate(['lat', 'lng'])} \n",
    "    centroid['name'] = frequencies.idxmax()\n",
    "    centroid['n'] = len(group)\n",
    "    centroid = pd.DataFrame(centroid, index=[0])\n",
    "    centroids.append(centroid)\n",
    "\n",
    "centroids = pd.concat(centroids)\n",
    "\n",
    "weighted_average = lambda group: group[['lat', 'lng']].apply(lambda x: np.average(x, weights=group.n))\n",
    "average = lambda group: group[['lat', 'lng']].apply(lambda x: np.average(x))\n",
    "\n",
    "centroids = centroids.groupby('name').apply(weighted_average)\n",
    "centroids = centroids.reset_index()\n",
    "\n",
    "centroids['user_id'] = None\n",
    "centroids['model_timestamp'] = datetime.now()"
   ]
  },
  {
   "cell_type": "code",
   "execution_count": null,
   "metadata": {},
   "outputs": [],
   "source": [
    "fig = gmaps.figure()\n",
    "colors = [tuple(np.random.randint(0, 256) for _ in range(3)) for _ in centroids.iterrows()]\n",
    "\n",
    "centroid_layer = gmaps.symbol_layer(centroids[['lat', 'lng']],\n",
    "                                   scale=5,\n",
    "                                   fill_color=colors,\n",
    "                                   stroke_color=colors,\n",
    "                                   info_box_content=centroids.name)\n",
    "fig.add_layer(centroid_layer)\n",
    "fig"
   ]
  },
  {
   "cell_type": "code",
   "execution_count": null,
   "metadata": {},
   "outputs": [],
   "source": [
    "mongo.db['destinations'].insert_many(centroids.to_dict('records'))"
   ]
  },
  {
   "cell_type": "code",
   "execution_count": 4,
   "metadata": {},
   "outputs": [],
   "source": []
  },
  {
   "cell_type": "code",
   "execution_count": 52,
   "metadata": {},
   "outputs": [
    {
     "data": {
      "text/plain": [
       "[{'url': 'https://www.wg-gesucht.de/wg-zimmer-in-Berlin-Kreuzberg.6179151.html',\n",
       "  'lat': 52.504184,\n",
       "  'lng': 13.4278601},\n",
       " {'lat': 52.4649012,\n",
       "  'url': 'https://www.wg-gesucht.de/wg-zimmer-in-Berlin-Treptow--Neukoelln.7130404.html',\n",
       "  'lng': 13.4800165}]"
      ]
     },
     "execution_count": 52,
     "metadata": {},
     "output_type": "execute_result"
    }
   ],
   "source": [
    "origin_chunk"
   ]
  },
  {
   "cell_type": "code",
   "execution_count": null,
   "metadata": {
    "scrolled": false
   },
   "outputs": [],
   "source": [
    "res = gesucht.gmaps.distance_matrix(origins[['lat', 'lng']].values, \n",
    "                                    cluster.cluster_centers_, \n",
    "                                    departure_time=travel_time, \n",
    "                                    mode='transit')\n",
    "res"
   ]
  },
  {
   "cell_type": "code",
   "execution_count": null,
   "metadata": {},
   "outputs": [],
   "source": [
    "travel_info = {}\n",
    "for url, row in zip(origins.url, res['rows']):\n",
    "    row = [{'distance':elem['distance']['value'], 'time': elem['duration']['value']} for elem in row['elements']]\n",
    "    travel_info[url] = {dest: travel_info for dest, travel_info in zip(cluster_names, row)}"
   ]
  },
  {
   "cell_type": "code",
   "execution_count": null,
   "metadata": {},
   "outputs": [],
   "source": [
    "travel_info"
   ]
  },
  {
   "cell_type": "code",
   "execution_count": null,
   "metadata": {},
   "outputs": [],
   "source": []
  }
 ],
 "metadata": {
  "kernelspec": {
   "display_name": "Python 3",
   "language": "python",
   "name": "python3"
  },
  "language_info": {
   "codemirror_mode": {
    "name": "ipython",
    "version": 3
   },
   "file_extension": ".py",
   "mimetype": "text/x-python",
   "name": "python",
   "nbconvert_exporter": "python",
   "pygments_lexer": "ipython3",
   "version": "3.7.0"
  }
 },
 "nbformat": 4,
 "nbformat_minor": 2
}
