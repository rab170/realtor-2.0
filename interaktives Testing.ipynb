{
 "cells": [
  {
   "cell_type": "code",
   "execution_count": 1,
   "metadata": {},
   "outputs": [],
   "source": [
    "import sys\n",
    "import yaml\n",
    "import pandas as pd\n",
    "\n",
    "from scraper.Parser import *\n",
    "pd.set_option('display.max_colwidth', -1)"
   ]
  },
  {
   "cell_type": "code",
   "execution_count": 2,
   "metadata": {},
   "outputs": [],
   "source": [
    "with open('scraper/config/hamburg.yaml') as f:\n",
    "    config = yaml.load(f)\n",
    "\n",
    "parser = Gesucht(config)"
   ]
  },
  {
   "cell_type": "code",
   "execution_count": 3,
   "metadata": {},
   "outputs": [],
   "source": [
    "url = 'https://www.wg-gesucht.de/wg-zimmer-in-Hamburg-Eilbek.7055343.html'\n",
    "\n",
    "metrics = parser.parse_listing(url)"
   ]
  },
  {
   "cell_type": "code",
   "execution_count": 4,
   "metadata": {},
   "outputs": [
    {
     "data": {
      "text/plain": [
       "{'free_from': datetime.datetime(2019, 3, 1, 0, 0),\n",
       " 'image_urls': ['https://img.wg-gesucht.de/media/up/2018/50/2c31f29222d1ef44136b07b9b0f5b5ca9980a5696f2a7739f0e0088daf802848_20180304_140613.large.jpg?w=160',\n",
       "  'https://img.wg-gesucht.de/media/up/2018/50/a2aefb595698f3295eca55caea5b7d1cf79dfd81a51c729f02db0378e2fa7191_20180304_140558.large.jpg?w=160',\n",
       "  'https://img.wg-gesucht.de/media/up/2018/50/af99ad3fa7a2638c9f784d8c7ed93c685005b4fe81abc709761d8c00d42bd9e8_20180302_132150.large.jpg?w=51',\n",
       "  'https://img.wg-gesucht.de/media/up/2018/50/729f43d56be618815e87be3eea54090f7ecb0328e47b19821253320e11233cc2_20180302_132226.large.jpg?w=51'],\n",
       " 'image_descriptions': ['Dein Zimmer',\n",
       "  'Dein Zimmer',\n",
       "  'Das Bad (das Foto wurde vor dem Einzug aufgenommen)',\n",
       "  'Die Küche (das Foto wurde vor dem Einzug aufgenommen)'],\n",
       " 'description': '\\n\\n                                                    Zimmer\\n                                            \\n\\n                        Das Zimmer ist 16 Quadratmeter groß mit sehr schönem hellem Parkettboden und unmöbliert. Aus dem Fenster hat man einen Blick in den Garten und auf die Bahngleise. Von der Bahn bekommen wir aber eigentlich nichts mit, da die Fenster isoliert sind. Der Garten gehört zum Haus und kann von uns mitbenutzt werden. Auch haben wir einen Kellerraum, wo wir Fahrräder oder sonstige Sachen unterbringen können. \\r\\nDie Küche ist sehr hell und super um gemütlich beisammen zu sitzen. Das Bad hat eine Badewanne mit einer Dusche. Auch haben wir einen großen Flur.\\n\\r\\nMeine bisherige Mitbewohnerin und ich haben uns die Einrichtung der Wohnung geteilt. Mit ihrem Auszug werden einige Möbel und Sachen fehlen. Es wäre super, wenn du sie mit in die WG einbringen könntest. Dazu gehören der Kühlschrank, der Küchentisch, ein Regal im Bad und der Staubsauger. \\r\\nWenn du mich kontaktierst, schreib auch bitte rein, ob du diese Sachen mitbringen kannst.\\r\\nInsgesamt ist die Wohnung noch ein bisschen provisorisch eingerichtet, weil uns Möbel für mehr Stauraum fehlen.\\n                    \\n\\n\\n\\n                        Lage\\n                    \\n\\n                        Die Wohnung ist praktisch gelegen mit der U-Bahnhaltestelle Ritterstraße in ca. 7 min Fußweg zu erreichen. Die S-Bahnstationen Landwehr und Hasselbrook sind in ca. 10 min zu erreichen. Es gibt zwei Edekas, einen Penny und zwei Budnis in ca. 10 min Entfernung und zahlreiche Bäckereien in unmittelbarer Umgebung. \\n                    \\n\\n\\n\\n\\n                        WG-Leben\\n                    \\n\\n                        Ich heiße Elisa, bin 21 Jahre alt und bin letztes Jahr zum Studieren nach Hamburg gezogen. \\r\\nIch würde mich freuen, wenn wir auch mal Zeit miteinander verbringen würden und z.B. zusammen kochen oder Filmeabende machen würden. \\r\\nAnsonsten möchte ich auf jeden Fall einen Putzplan in der WG haben und finde es super, wenn es ordentlich ist. \\r\\nEs könnte sein, dass ich ab Oktober ein Auslandssemester einlege, sodass du dir dann vorübergehend einen anderen Mitbewohner suchen müsstest. Das steht aber noch nicht fest. \\n\\n\\n\\n\\n                        Sonstiges\\n                    \\n\\n                        Bei der angegebenen Miete handelt es sich um die Gesamtmiete. Die Wohnungsverwaltungsgesellschaft verlangt eine einmalige Bearbeitungsgebühr von 75 Euro, damit ein Untermietvertrag geschlossen werden kann.\\n\\r\\nWenn du Interesse hast, schreib mir gerne etwas von dir unter \\n\\r\\nDie Besichtigungen werden nach Weihnachten statt finden. \\n                    \\n',\n",
       " 'details': ['2. OG',\n",
       "  'Badewanne, Dusche',\n",
       "  'Parkett',\n",
       "  '10 Minuten zu Fuß entfernt',\n",
       "  'Waschmaschine, Gartenmitbenutzung, Keller'],\n",
       " 'rent': 450,\n",
       " 'utilities': 0,\n",
       " 'other': 0,\n",
       " 'deposit': 870,\n",
       " 'square_meters': 16,\n",
       " 'title': 'schönes 16qm Zimmer in Eilbek - WGs Hamburg-Eilbek',\n",
       " 'url': 'https://www.wg-gesucht.de/wg-zimmer-in-Hamburg-Eilbek.7055343.html',\n",
       " 'WG_size': 2}"
      ]
     },
     "execution_count": 4,
     "metadata": {},
     "output_type": "execute_result"
    }
   ],
   "source": [
    "metrics"
   ]
  },
  {
   "cell_type": "code",
   "execution_count": null,
   "metadata": {},
   "outputs": [],
   "source": [
    "soup = parser.soup(url)"
   ]
  },
  {
   "cell_type": "code",
   "execution_count": null,
   "metadata": {},
   "outputs": [],
   "source": []
  },
  {
   "cell_type": "code",
   "execution_count": null,
   "metadata": {},
   "outputs": [],
   "source": [
    "self = parser\n",
    "\n",
    "url = soup.attrs['url']\n",
    "self.selenium.get(url)\n",
    "\n",
    "try:\n",
    "    pointer = WebDriverWait(self.selenium, self.timeout).until(\n",
    "              EC.visibility_of_element_located((By.CLASS_NAME, 'cursor-pointer')))\n",
    "    pointer.click()\n",
    "except Exception as e:\n",
    "    logging.info('no \"weiter zu den Bilder\" tab')\n",
    "finally:\n",
    "    urls = []\n",
    "    desc = []\n",
    "\n",
    "    time.sleep(self.timeout)\n",
    "\n",
    "    thumbnails = self.selenium.find_elements_by_class_name('sp-thumbnail')\n"
   ]
  },
  {
   "cell_type": "code",
   "execution_count": null,
   "metadata": {},
   "outputs": [],
   "source": [
    "urls = [thumbnail.get_attribute('src') for thumbnail in thumbnails]\n"
   ]
  },
  {
   "cell_type": "code",
   "execution_count": null,
   "metadata": {},
   "outputs": [],
   "source": [
    "print(soup.attrs)"
   ]
  },
  {
   "cell_type": "code",
   "execution_count": null,
   "metadata": {},
   "outputs": [],
   "source": [
    "    if len(thumbnails):\n",
    "        urls = map(lambda thumbnail: thumbnail.get_attribute('src'), thumbnails)\n",
    "        urls = map(lambda s: s.replace('thumb', 'large'), urls)\n",
    "        desc = map(lambda thumbnail: thumbnail.get_attribute('alt'), thumbnails)\n",
    "    else:\n",
    "        thumbnails = self.selenium.find_elements_by_class_name('sp-image')[1:]\n",
    "        if len(thumbnails):\n",
    "            urls = map(lambda thumbnail: thumbnail.get_attribute('src'), thumbnails)\n",
    "            desc = map(lambda thumbnail: thumbnail.get_attribute('alt'), thumbnails)\n",
    "\n",
    "pairs = zip(urls, desc)\n",
    "pairs = filter(lambda item: item[0] != u'https://www.wg-gesucht.de/img/d.gif', pairs)\n",
    "urls, desc = map(list, zip(*pairs))\n"
   ]
  },
  {
   "cell_type": "code",
   "execution_count": null,
   "metadata": {},
   "outputs": [],
   "source": []
  },
  {
   "cell_type": "code",
   "execution_count": null,
   "metadata": {},
   "outputs": [],
   "source": []
  },
  {
   "cell_type": "code",
   "execution_count": null,
   "metadata": {},
   "outputs": [],
   "source": [
    "def clean(s): return re.sub('\\s\\s+', '', s.text)\n",
    "\n",
    "wg_details = soup.find('ul', {'class': 'ul-detailed-view-datasheet print_text_left'}).findAll('li')\n",
    "wg_details = [clean(li).lower() for li in wg_details]\n",
    "wg_details = ' '.join(wg_details)\n",
    "\n",
    "processing = {'WG_size': int,\n",
    "              'languages': lambda langauges: langauges.split(',')}\n",
    "\n",
    "regex = {'WG_size': re.compile(r'.*(?P<WG_size>[0-9])er wg.*'),\n",
    "         'languages': re.compile(r'.*sprach.*:(?P<languages>.*)')}\n",
    "\n",
    "res = {}\n",
    "for backref, pattern in regex.items():\n",
    "    hits = pattern.search(wg_details)\n",
    "    hits = set(hits.groups(backref)) if hits else []\n",
    "    if len(hits) == 1:\n",
    "        res[backref] = processing[backref](hits.pop())\n"
   ]
  },
  {
   "cell_type": "code",
   "execution_count": null,
   "metadata": {},
   "outputs": [],
   "source": [
    "soup.findAll('div', {'style': 'margin: 0 -15px;'})"
   ]
  },
  {
   "cell_type": "code",
   "execution_count": null,
   "metadata": {},
   "outputs": [],
   "source": [
    "soup"
   ]
  },
  {
   "cell_type": "code",
   "execution_count": null,
   "metadata": {},
   "outputs": [],
   "source": [
    "pattern = re.compile(r'.*(?P<WG_size>[0-9])er wg.*')\n",
    "hits = pattern.search(wg_details)\n",
    "hits.groups"
   ]
  },
  {
   "cell_type": "code",
   "execution_count": null,
   "metadata": {},
   "outputs": [],
   "source": []
  }
 ],
 "metadata": {
  "kernelspec": {
   "display_name": "Python 3",
   "language": "python",
   "name": "python3"
  },
  "language_info": {
   "codemirror_mode": {
    "name": "ipython",
    "version": 3
   },
   "file_extension": ".py",
   "mimetype": "text/x-python",
   "name": "python",
   "nbconvert_exporter": "python",
   "pygments_lexer": "ipython3",
   "version": "3.7.0"
  }
 },
 "nbformat": 4,
 "nbformat_minor": 2
}
